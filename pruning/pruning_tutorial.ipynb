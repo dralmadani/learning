{
  "cells": [
    {
      "cell_type": "markdown",
      "metadata": {
        "id": "view-in-github",
        "colab_type": "text"
      },
      "source": [
        "<a href=\"https://colab.research.google.com/github/dralmadani/learning/blob/main/pruning/pruning_tutorial.ipynb\" target=\"_parent\"><img src=\"https://colab.research.google.com/assets/colab-badge.svg\" alt=\"Open In Colab\"/></a>"
      ]
    },
    {
      "cell_type": "code",
      "execution_count": 86,
      "metadata": {
        "id": "QulMjc88rWbm"
      },
      "outputs": [],
      "source": [
        "%matplotlib inline"
      ]
    },
    {
      "cell_type": "markdown",
      "metadata": {
        "id": "PusGorOZrWbp"
      },
      "source": [
        "\n",
        "# Pruning Tutorial\n",
        "**Author**: [Michela Paganini](https://github.com/mickypaganini)\n",
        "\n",
        "State-of-the-art deep learning techniques rely on over-parametrized models \n",
        "that are hard to deploy. On the contrary, biological neural networks are \n",
        "known to use efficient sparse connectivity. Identifying optimal  \n",
        "techniques to compress models by reducing the number of parameters in them is \n",
        "important in order to reduce memory, battery, and hardware consumption without \n",
        "sacrificing accuracy. This in turn allows you to deploy lightweight models on device, and guarantee \n",
        "privacy with private on-device computation. On the research front, pruning is \n",
        "used to investigate the differences in learning dynamics between \n",
        "over-parametrized and under-parametrized networks, to study the role of lucky \n",
        "sparse subnetworks and initializations\n",
        "(\"[lottery tickets](https://arxiv.org/abs/1803.03635)\") as a destructive \n",
        "neural architecture search technique, and more.\n",
        "\n",
        "In this tutorial, you will learn how to use ``torch.nn.utils.prune`` to \n",
        "sparsify your neural networks, and how to extend it to implement your \n",
        "own custom pruning technique.\n",
        "\n",
        "## Requirements\n",
        "``\"torch>=1.4.0a0+8e8a5e0\"``\n"
      ]
    },
    {
      "cell_type": "code",
      "execution_count": 87,
      "metadata": {
        "id": "7p-E02HXrWbq"
      },
      "outputs": [],
      "source": [
        "import torch\n",
        "from torch import nn\n",
        "import torch.nn.utils.prune as prune\n",
        "import torch.nn.functional as F"
      ]
    },
    {
      "cell_type": "markdown",
      "metadata": {
        "id": "_gMXfmf7rWbr"
      },
      "source": [
        "## Create a model\n",
        "\n",
        "In this tutorial, we use the [LeNet](http://yann.lecun.com/exdb/publis/pdf/lecun-98.pdf) architecture from \n",
        "LeCun et al., 1998.\n",
        "\n"
      ]
    },
    {
      "cell_type": "code",
      "execution_count": 88,
      "metadata": {
        "id": "odO0FwX_rWbr"
      },
      "outputs": [],
      "source": [
        "device = torch.device(\"cuda\" if torch.cuda.is_available() else \"cpu\")\n",
        "\n",
        "class LeNet(nn.Module):\n",
        "    def __init__(self):\n",
        "        super(LeNet, self).__init__()\n",
        "        # 1 input image channel, 6 output channels, 3x3 square conv kernel\n",
        "        self.conv1 = nn.Conv2d(1, 6, 3)\n",
        "        self.conv2 = nn.Conv2d(6, 16, 3)\n",
        "        self.fc1 = nn.Linear(16 * 5 * 5, 120)  # 5x5 image dimension\n",
        "        self.fc2 = nn.Linear(120, 84)\n",
        "        self.fc3 = nn.Linear(84, 10)\n",
        "\n",
        "    def forward(self, x):\n",
        "        x = F.max_pool2d(F.relu(self.conv1(x)), (2, 2))\n",
        "        x = F.max_pool2d(F.relu(self.conv2(x)), 2)\n",
        "        x = x.view(-1, int(x.nelement() / x.shape[0]))\n",
        "        x = F.relu(self.fc1(x))\n",
        "        x = F.relu(self.fc2(x))\n",
        "        x = self.fc3(x)\n",
        "        return x\n",
        "\n",
        "model = LeNet().to(device=device)"
      ]
    },
    {
      "cell_type": "markdown",
      "metadata": {
        "id": "xigUUy_1rWbs"
      },
      "source": [
        "## Inspect a Module\n",
        "\n",
        "Let's inspect the (unpruned) ``conv1`` layer in our LeNet model. It will contain two \n",
        "parameters ``weight`` and ``bias``, and no buffers, for now.\n",
        "\n"
      ]
    },
    {
      "cell_type": "code",
      "source": [
        "print(model)\n"
      ],
      "metadata": {
        "id": "c0lHaIG94vTC",
        "outputId": "24190b6e-f75d-4edf-9255-7507edb5658b",
        "colab": {
          "base_uri": "https://localhost:8080/"
        }
      },
      "execution_count": 89,
      "outputs": [
        {
          "output_type": "stream",
          "name": "stdout",
          "text": [
            "LeNet(\n",
            "  (conv1): Conv2d(1, 6, kernel_size=(3, 3), stride=(1, 1))\n",
            "  (conv2): Conv2d(6, 16, kernel_size=(3, 3), stride=(1, 1))\n",
            "  (fc1): Linear(in_features=400, out_features=120, bias=True)\n",
            "  (fc2): Linear(in_features=120, out_features=84, bias=True)\n",
            "  (fc3): Linear(in_features=84, out_features=10, bias=True)\n",
            ")\n"
          ]
        }
      ]
    },
    {
      "cell_type": "code",
      "source": [
        "# print(vgg)\n",
        "# summary(vgg, (3, 32, 32))\n"
      ],
      "metadata": {
        "id": "XYe3uy1a5TZk"
      },
      "execution_count": 90,
      "outputs": []
    },
    {
      "cell_type": "code",
      "source": [
        "from torchvision import models\n",
        "from torchsummary import summary\n",
        "\n",
        "\n",
        "# vgg = models.vgg16()\n",
        "# summary(vgg, input_size , batch_size=-1, device='cpu')\n",
        "# summary(model, input_size, batch_size=-1, device='cuda')\n",
        "# summary(model, input_size = ( 6,6), batch_size=-1, device='cuda')"
      ],
      "metadata": {
        "id": "ivd36I9o3djB"
      },
      "execution_count": 91,
      "outputs": []
    },
    {
      "cell_type": "code",
      "source": [
        "# vgg_module = model.conv1\n",
        "# print(list(vgg_module.named_parameters()))"
      ],
      "metadata": {
        "id": "36GEhS3b58O1"
      },
      "execution_count": 92,
      "outputs": []
    },
    {
      "cell_type": "code",
      "execution_count": 93,
      "metadata": {
        "id": "mbJieqYdrWbt",
        "outputId": "565d8bea-6369-4e3f-c740-7956b1f4bf4f",
        "colab": {
          "base_uri": "https://localhost:8080/"
        }
      },
      "outputs": [
        {
          "output_type": "stream",
          "name": "stdout",
          "text": [
            "[('weight', Parameter containing:\n",
            "tensor([[[[-0.2045, -0.0369, -0.0503],\n",
            "          [-0.0531, -0.2477, -0.0336],\n",
            "          [ 0.3263, -0.2546, -0.2760]]],\n",
            "\n",
            "\n",
            "        [[[ 0.1915, -0.1756, -0.0692],\n",
            "          [ 0.2582,  0.2328,  0.1070],\n",
            "          [-0.1093,  0.2669, -0.0078]]],\n",
            "\n",
            "\n",
            "        [[[-0.1390, -0.1930, -0.1108],\n",
            "          [ 0.1681,  0.0749, -0.3172],\n",
            "          [-0.1882,  0.3161, -0.1487]]],\n",
            "\n",
            "\n",
            "        [[[-0.2394, -0.0184,  0.1541],\n",
            "          [-0.0269,  0.1347,  0.1992],\n",
            "          [ 0.1289,  0.2432,  0.1158]]],\n",
            "\n",
            "\n",
            "        [[[-0.1959, -0.2725,  0.0892],\n",
            "          [ 0.0199,  0.0589, -0.1596],\n",
            "          [ 0.3321, -0.1879, -0.1992]]],\n",
            "\n",
            "\n",
            "        [[[-0.1161, -0.1167, -0.2128],\n",
            "          [-0.0802, -0.0093,  0.1980],\n",
            "          [-0.1367,  0.3285,  0.2166]]]], requires_grad=True)), ('bias', Parameter containing:\n",
            "tensor([-0.2080, -0.0636, -0.2399,  0.0928,  0.2952, -0.0242],\n",
            "       requires_grad=True))]\n"
          ]
        }
      ],
      "source": [
        "module = model.conv1\n",
        "print(list(module.named_parameters()))"
      ]
    },
    {
      "cell_type": "code",
      "execution_count": 94,
      "metadata": {
        "id": "E-8AzUTwrWbt",
        "outputId": "96643b37-e88a-4c1e-b221-5ab1f39866d9",
        "colab": {
          "base_uri": "https://localhost:8080/"
        }
      },
      "outputs": [
        {
          "output_type": "stream",
          "name": "stdout",
          "text": [
            "[]\n"
          ]
        }
      ],
      "source": [
        "print(list(module.named_buffers()))"
      ]
    },
    {
      "cell_type": "code",
      "source": [
        "print(module.weight)\n",
        "print ('*'* 20)\n",
        "print(module.bias)"
      ],
      "metadata": {
        "id": "SJNoer1_saAy",
        "outputId": "ecfd1938-917c-44ad-b4f5-672da4f382f7",
        "colab": {
          "base_uri": "https://localhost:8080/"
        }
      },
      "execution_count": 101,
      "outputs": [
        {
          "output_type": "stream",
          "name": "stdout",
          "text": [
            "Parameter containing:\n",
            "tensor([[[[-0.2045, -0.0369, -0.0503],\n",
            "          [-0.0531, -0.2477, -0.0336],\n",
            "          [ 0.3263, -0.2546, -0.2760]]],\n",
            "\n",
            "\n",
            "        [[[ 0.1915, -0.1756, -0.0692],\n",
            "          [ 0.2582,  0.2328,  0.1070],\n",
            "          [-0.1093,  0.2669, -0.0078]]],\n",
            "\n",
            "\n",
            "        [[[-0.1390, -0.1930, -0.1108],\n",
            "          [ 0.1681,  0.0749, -0.3172],\n",
            "          [-0.1882,  0.3161, -0.1487]]],\n",
            "\n",
            "\n",
            "        [[[-0.2394, -0.0184,  0.1541],\n",
            "          [-0.0269,  0.1347,  0.1992],\n",
            "          [ 0.1289,  0.2432,  0.1158]]],\n",
            "\n",
            "\n",
            "        [[[-0.1959, -0.2725,  0.0892],\n",
            "          [ 0.0199,  0.0589, -0.1596],\n",
            "          [ 0.3321, -0.1879, -0.1992]]],\n",
            "\n",
            "\n",
            "        [[[-0.1161, -0.1167, -0.2128],\n",
            "          [-0.0802, -0.0093,  0.1980],\n",
            "          [-0.1367,  0.3285,  0.2166]]]], requires_grad=True)\n",
            "********************\n",
            "Parameter containing:\n",
            "tensor([-0.2080, -0.0636, -0.2399,  0.0928,  0.2952, -0.0242],\n",
            "       requires_grad=True)\n"
          ]
        }
      ]
    },
    {
      "cell_type": "markdown",
      "metadata": {
        "id": "2ph0DM9srWbu"
      },
      "source": [
        "## Pruning a Module\n",
        "\n",
        "To prune a module (in this example, the ``conv1`` layer of our LeNet \n",
        "architecture), first select a pruning technique among those available in \n",
        "``torch.nn.utils.prune`` (or\n",
        "[implement](#extending-torch-nn-utils-pruning-with-custom-pruning-functions)\n",
        "your own by subclassing \n",
        "``BasePruningMethod``). Then, specify the module and the name of the parameter to \n",
        "prune within that module. Finally, using the adequate keyword arguments \n",
        "required by the selected pruning technique, specify the pruning parameters.\n",
        "\n",
        "In this example, we will prune at random 30% of the connections in \n",
        "the parameter named ``weight`` in the ``conv1`` layer.\n",
        "The module is passed as the first argument to the function; ``name`` \n",
        "identifies the parameter within that module using its string identifier; and \n",
        "``amount`` indicates either the percentage of connections to prune (if it \n",
        "is a float between 0. and 1.), or the absolute number of connections to \n",
        "prune (if it is a non-negative integer).\n",
        "\n"
      ]
    },
    {
      "cell_type": "code",
      "execution_count": 9,
      "metadata": {
        "id": "AP8tewpPrWbv",
        "outputId": "49051ed8-e7ad-4e69-aa9f-1866c20fd83d",
        "colab": {
          "base_uri": "https://localhost:8080/"
        }
      },
      "outputs": [
        {
          "output_type": "execute_result",
          "data": {
            "text/plain": [
              "Conv2d(1, 6, kernel_size=(3, 3), stride=(1, 1))"
            ]
          },
          "metadata": {},
          "execution_count": 9
        }
      ],
      "source": [
        "prune.random_unstructured(module, name=\"weight\", amount=0.3)"
      ]
    },
    {
      "cell_type": "markdown",
      "metadata": {
        "id": "cMnMbyk1rWbv"
      },
      "source": [
        "Pruning acts by removing ``weight`` from the parameters and replacing it with \n",
        "a new parameter called ``weight_orig`` (i.e. appending ``\"_orig\"`` to the \n",
        "initial parameter ``name``). ``weight_orig`` stores the unpruned version of \n",
        "the tensor. The ``bias`` was not pruned, so it will remain intact.\n",
        "\n"
      ]
    },
    {
      "cell_type": "code",
      "execution_count": 10,
      "metadata": {
        "id": "7lUViz2crWbv",
        "outputId": "52014fb1-7000-42af-a57a-c9c34617a352",
        "colab": {
          "base_uri": "https://localhost:8080/"
        }
      },
      "outputs": [
        {
          "output_type": "stream",
          "name": "stdout",
          "text": [
            "[('bias', Parameter containing:\n",
            "tensor([ 0.2546, -0.2674,  0.2974, -0.0682, -0.2642,  0.2121],\n",
            "       requires_grad=True)), ('weight_orig', Parameter containing:\n",
            "tensor([[[[ 0.1496, -0.3023, -0.2438],\n",
            "          [ 0.2126, -0.1133,  0.1834],\n",
            "          [ 0.1078, -0.1044,  0.2714]]],\n",
            "\n",
            "\n",
            "        [[[-0.3030,  0.1866,  0.0981],\n",
            "          [ 0.1191, -0.0111,  0.0293],\n",
            "          [ 0.1350,  0.2438,  0.3189]]],\n",
            "\n",
            "\n",
            "        [[[ 0.2405, -0.2004, -0.2549],\n",
            "          [-0.1561, -0.2141, -0.2966],\n",
            "          [ 0.0078,  0.0792,  0.2938]]],\n",
            "\n",
            "\n",
            "        [[[-0.0651,  0.1800,  0.0074],\n",
            "          [ 0.1169, -0.1011,  0.3257],\n",
            "          [-0.0018,  0.2859,  0.3029]]],\n",
            "\n",
            "\n",
            "        [[[ 0.0280,  0.1943,  0.2227],\n",
            "          [ 0.2977,  0.1650,  0.2472],\n",
            "          [-0.2792, -0.2536, -0.0531]]],\n",
            "\n",
            "\n",
            "        [[[ 0.1682,  0.1154, -0.1251],\n",
            "          [-0.1167,  0.1291, -0.2735],\n",
            "          [ 0.0724, -0.0380,  0.0469]]]], requires_grad=True))]\n"
          ]
        }
      ],
      "source": [
        "print(list(module.named_parameters()))"
      ]
    },
    {
      "cell_type": "markdown",
      "metadata": {
        "id": "sZBF1JJYrWbv"
      },
      "source": [
        "The pruning mask generated by the pruning technique selected above is saved \n",
        "as a module buffer named ``weight_mask`` (i.e. appending ``\"_mask\"`` to the \n",
        "initial parameter ``name``).\n",
        "\n"
      ]
    },
    {
      "cell_type": "code",
      "execution_count": 11,
      "metadata": {
        "id": "moMDIBsVrWbv",
        "outputId": "c7de0087-2d9d-47df-8801-89eb340e23c7",
        "colab": {
          "base_uri": "https://localhost:8080/"
        }
      },
      "outputs": [
        {
          "output_type": "stream",
          "name": "stdout",
          "text": [
            "[('weight_mask', tensor([[[[1., 0., 1.],\n",
            "          [0., 0., 0.],\n",
            "          [0., 0., 0.]]],\n",
            "\n",
            "\n",
            "        [[[1., 0., 1.],\n",
            "          [0., 1., 1.],\n",
            "          [0., 0., 1.]]],\n",
            "\n",
            "\n",
            "        [[[1., 1., 0.],\n",
            "          [1., 1., 1.],\n",
            "          [0., 0., 0.]]],\n",
            "\n",
            "\n",
            "        [[[0., 0., 0.],\n",
            "          [1., 1., 1.],\n",
            "          [1., 0., 1.]]],\n",
            "\n",
            "\n",
            "        [[[1., 1., 1.],\n",
            "          [1., 1., 0.],\n",
            "          [1., 0., 0.]]],\n",
            "\n",
            "\n",
            "        [[[1., 0., 0.],\n",
            "          [0., 1., 1.],\n",
            "          [1., 0., 0.]]]]))]\n"
          ]
        }
      ],
      "source": [
        "print(list(module.named_buffers()))"
      ]
    },
    {
      "cell_type": "markdown",
      "metadata": {
        "id": "x4AUYcUarWbw"
      },
      "source": [
        "For the forward pass to work without modification, the ``weight`` attribute \n",
        "needs to exist. The pruning techniques implemented in \n",
        "``torch.nn.utils.prune`` compute the pruned version of the weight (by \n",
        "combining the mask with the original parameter) and store them in the \n",
        "attribute ``weight``. Note, this is no longer a parameter of the ``module``,\n",
        "it is now simply an attribute.\n",
        "\n"
      ]
    },
    {
      "cell_type": "code",
      "source": [
        "\n",
        "print(list(module.named_parameters()))"
      ],
      "metadata": {
        "id": "a1vdjfyrsFp_",
        "outputId": "9fa217c2-2788-4aa3-fd49-110bf8db7e43",
        "colab": {
          "base_uri": "https://localhost:8080/"
        }
      },
      "execution_count": 12,
      "outputs": [
        {
          "output_type": "stream",
          "name": "stdout",
          "text": [
            "[('bias', Parameter containing:\n",
            "tensor([ 0.2546, -0.2674,  0.2974, -0.0682, -0.2642,  0.2121],\n",
            "       requires_grad=True)), ('weight_orig', Parameter containing:\n",
            "tensor([[[[ 0.1496, -0.3023, -0.2438],\n",
            "          [ 0.2126, -0.1133,  0.1834],\n",
            "          [ 0.1078, -0.1044,  0.2714]]],\n",
            "\n",
            "\n",
            "        [[[-0.3030,  0.1866,  0.0981],\n",
            "          [ 0.1191, -0.0111,  0.0293],\n",
            "          [ 0.1350,  0.2438,  0.3189]]],\n",
            "\n",
            "\n",
            "        [[[ 0.2405, -0.2004, -0.2549],\n",
            "          [-0.1561, -0.2141, -0.2966],\n",
            "          [ 0.0078,  0.0792,  0.2938]]],\n",
            "\n",
            "\n",
            "        [[[-0.0651,  0.1800,  0.0074],\n",
            "          [ 0.1169, -0.1011,  0.3257],\n",
            "          [-0.0018,  0.2859,  0.3029]]],\n",
            "\n",
            "\n",
            "        [[[ 0.0280,  0.1943,  0.2227],\n",
            "          [ 0.2977,  0.1650,  0.2472],\n",
            "          [-0.2792, -0.2536, -0.0531]]],\n",
            "\n",
            "\n",
            "        [[[ 0.1682,  0.1154, -0.1251],\n",
            "          [-0.1167,  0.1291, -0.2735],\n",
            "          [ 0.0724, -0.0380,  0.0469]]]], requires_grad=True))]\n"
          ]
        }
      ]
    },
    {
      "cell_type": "code",
      "execution_count": 13,
      "metadata": {
        "id": "YvQDflWcrWbw",
        "outputId": "0d2d9cca-42d1-438d-ee4d-c969950db7d3",
        "colab": {
          "base_uri": "https://localhost:8080/"
        }
      },
      "outputs": [
        {
          "output_type": "stream",
          "name": "stdout",
          "text": [
            "tensor([[[[ 0.1496, -0.0000, -0.2438],\n",
            "          [ 0.0000, -0.0000,  0.0000],\n",
            "          [ 0.0000, -0.0000,  0.0000]]],\n",
            "\n",
            "\n",
            "        [[[-0.3030,  0.0000,  0.0981],\n",
            "          [ 0.0000, -0.0111,  0.0293],\n",
            "          [ 0.0000,  0.0000,  0.3189]]],\n",
            "\n",
            "\n",
            "        [[[ 0.2405, -0.2004, -0.0000],\n",
            "          [-0.1561, -0.2141, -0.2966],\n",
            "          [ 0.0000,  0.0000,  0.0000]]],\n",
            "\n",
            "\n",
            "        [[[-0.0000,  0.0000,  0.0000],\n",
            "          [ 0.1169, -0.1011,  0.3257],\n",
            "          [-0.0018,  0.0000,  0.3029]]],\n",
            "\n",
            "\n",
            "        [[[ 0.0280,  0.1943,  0.2227],\n",
            "          [ 0.2977,  0.1650,  0.0000],\n",
            "          [-0.2792, -0.0000, -0.0000]]],\n",
            "\n",
            "\n",
            "        [[[ 0.1682,  0.0000, -0.0000],\n",
            "          [-0.0000,  0.1291, -0.2735],\n",
            "          [ 0.0724, -0.0000,  0.0000]]]], grad_fn=<MulBackward0>)\n"
          ]
        }
      ],
      "source": [
        "print(module.weight)"
      ]
    },
    {
      "cell_type": "markdown",
      "metadata": {
        "id": "0k-u56pvrWbw"
      },
      "source": [
        "Finally, pruning is applied prior to each forward pass using PyTorch's\n",
        "``forward_pre_hooks``. Specifically, when the ``module`` is pruned, as we \n",
        "have done here, it will acquire a ``forward_pre_hook`` for each parameter \n",
        "associated with it that gets pruned. In this case, since we have so far \n",
        "only pruned the original parameter named ``weight``, only one hook will be\n",
        "present.\n",
        "\n"
      ]
    },
    {
      "cell_type": "code",
      "execution_count": 14,
      "metadata": {
        "id": "9smmR17FrWbw",
        "outputId": "33dc734e-b6ad-476e-fb79-47db4bed71e8",
        "colab": {
          "base_uri": "https://localhost:8080/"
        }
      },
      "outputs": [
        {
          "output_type": "stream",
          "name": "stdout",
          "text": [
            "OrderedDict([(1, <torch.nn.utils.prune.PruningContainer object at 0x7f364423ba00>)])\n"
          ]
        }
      ],
      "source": [
        "print(module._forward_pre_hooks)"
      ]
    },
    {
      "cell_type": "markdown",
      "metadata": {
        "id": "LdoBum2zrWbw"
      },
      "source": [
        "For completeness, we can now prune the ``bias`` too, to see how the \n",
        "parameters, buffers, hooks, and attributes of the ``module`` change.\n",
        "Just for the sake of trying out another pruning technique, here we prune the \n",
        "3 smallest entries in the bias by L1 norm, as implemented in the \n",
        "``l1_unstructured`` pruning function.\n",
        "\n"
      ]
    },
    {
      "cell_type": "code",
      "execution_count": 15,
      "metadata": {
        "id": "5NuSH6cwrWbw",
        "outputId": "3f43046e-3cc6-4835-e7c9-ca9687461ecd",
        "colab": {
          "base_uri": "https://localhost:8080/"
        }
      },
      "outputs": [
        {
          "output_type": "execute_result",
          "data": {
            "text/plain": [
              "Conv2d(1, 6, kernel_size=(3, 3), stride=(1, 1))"
            ]
          },
          "metadata": {},
          "execution_count": 15
        }
      ],
      "source": [
        "prune.l1_unstructured(module, name=\"bias\", amount=3)"
      ]
    },
    {
      "cell_type": "markdown",
      "metadata": {
        "id": "YUy0EXkArWbw"
      },
      "source": [
        "We now expect the named parameters to include both ``weight_orig`` (from \n",
        "before) and ``bias_orig``. The buffers will include ``weight_mask`` and \n",
        "``bias_mask``. The pruned versions of the two tensors will exist as \n",
        "module attributes, and the module will now have two ``forward_pre_hooks``.\n",
        "\n"
      ]
    },
    {
      "cell_type": "code",
      "execution_count": 16,
      "metadata": {
        "id": "xqp3xwBlrWbw",
        "outputId": "9dcc06b7-4a51-498b-e0ad-7213378eaa0d",
        "colab": {
          "base_uri": "https://localhost:8080/"
        }
      },
      "outputs": [
        {
          "output_type": "stream",
          "name": "stdout",
          "text": [
            "[('weight_orig', Parameter containing:\n",
            "tensor([[[[ 0.1496, -0.3023, -0.2438],\n",
            "          [ 0.2126, -0.1133,  0.1834],\n",
            "          [ 0.1078, -0.1044,  0.2714]]],\n",
            "\n",
            "\n",
            "        [[[-0.3030,  0.1866,  0.0981],\n",
            "          [ 0.1191, -0.0111,  0.0293],\n",
            "          [ 0.1350,  0.2438,  0.3189]]],\n",
            "\n",
            "\n",
            "        [[[ 0.2405, -0.2004, -0.2549],\n",
            "          [-0.1561, -0.2141, -0.2966],\n",
            "          [ 0.0078,  0.0792,  0.2938]]],\n",
            "\n",
            "\n",
            "        [[[-0.0651,  0.1800,  0.0074],\n",
            "          [ 0.1169, -0.1011,  0.3257],\n",
            "          [-0.0018,  0.2859,  0.3029]]],\n",
            "\n",
            "\n",
            "        [[[ 0.0280,  0.1943,  0.2227],\n",
            "          [ 0.2977,  0.1650,  0.2472],\n",
            "          [-0.2792, -0.2536, -0.0531]]],\n",
            "\n",
            "\n",
            "        [[[ 0.1682,  0.1154, -0.1251],\n",
            "          [-0.1167,  0.1291, -0.2735],\n",
            "          [ 0.0724, -0.0380,  0.0469]]]], requires_grad=True)), ('bias_orig', Parameter containing:\n",
            "tensor([ 0.2546, -0.2674,  0.2974, -0.0682, -0.2642,  0.2121],\n",
            "       requires_grad=True))]\n"
          ]
        }
      ],
      "source": [
        "print(list(module.named_parameters()))"
      ]
    },
    {
      "cell_type": "code",
      "execution_count": 17,
      "metadata": {
        "id": "jdaR9ixErWbw",
        "outputId": "b1f17222-1f97-4996-be71-9e039d1950b2",
        "colab": {
          "base_uri": "https://localhost:8080/"
        }
      },
      "outputs": [
        {
          "output_type": "stream",
          "name": "stdout",
          "text": [
            "[('weight_mask', tensor([[[[1., 0., 1.],\n",
            "          [0., 0., 0.],\n",
            "          [0., 0., 0.]]],\n",
            "\n",
            "\n",
            "        [[[1., 0., 1.],\n",
            "          [0., 1., 1.],\n",
            "          [0., 0., 1.]]],\n",
            "\n",
            "\n",
            "        [[[1., 1., 0.],\n",
            "          [1., 1., 1.],\n",
            "          [0., 0., 0.]]],\n",
            "\n",
            "\n",
            "        [[[0., 0., 0.],\n",
            "          [1., 1., 1.],\n",
            "          [1., 0., 1.]]],\n",
            "\n",
            "\n",
            "        [[[1., 1., 1.],\n",
            "          [1., 1., 0.],\n",
            "          [1., 0., 0.]]],\n",
            "\n",
            "\n",
            "        [[[1., 0., 0.],\n",
            "          [0., 1., 1.],\n",
            "          [1., 0., 0.]]]])), ('bias_mask', tensor([0., 1., 1., 0., 1., 0.]))]\n"
          ]
        }
      ],
      "source": [
        "print(list(module.named_buffers()))"
      ]
    },
    {
      "cell_type": "code",
      "execution_count": 18,
      "metadata": {
        "id": "dgimMn4ErWbw",
        "outputId": "1591d05b-9b57-4dac-cbf7-2ba22cd39828",
        "colab": {
          "base_uri": "https://localhost:8080/"
        }
      },
      "outputs": [
        {
          "output_type": "stream",
          "name": "stdout",
          "text": [
            "tensor([ 0.0000, -0.2674,  0.2974, -0.0000, -0.2642,  0.0000],\n",
            "       grad_fn=<MulBackward0>)\n"
          ]
        }
      ],
      "source": [
        "print(module.bias)"
      ]
    },
    {
      "cell_type": "code",
      "execution_count": 19,
      "metadata": {
        "id": "mDhU2uLxrWbx",
        "outputId": "d072e26e-36b0-4d9f-a24e-b5297902fd57",
        "colab": {
          "base_uri": "https://localhost:8080/"
        }
      },
      "outputs": [
        {
          "output_type": "stream",
          "name": "stdout",
          "text": [
            "OrderedDict([(1, <torch.nn.utils.prune.PruningContainer object at 0x7f364423ba00>), (2, <torch.nn.utils.prune.L1Unstructured object at 0x7f364423b5e0>)])\n"
          ]
        }
      ],
      "source": [
        "print(module._forward_pre_hooks)"
      ]
    },
    {
      "cell_type": "markdown",
      "metadata": {
        "id": "aA3O3hvxrWbx"
      },
      "source": [
        "## Iterative Pruning\n",
        "\n",
        "The same parameter in a module can be pruned multiple times, with the \n",
        "effect of the various pruning calls being equal to the combination of the\n",
        "various masks applied in series.\n",
        "The combination of a new mask with the old mask is handled by the \n",
        "``PruningContainer``'s ``compute_mask`` method.\n",
        "\n",
        "Say, for example, that we now want to further prune ``module.weight``, this\n",
        "time using structured pruning along the 0th axis of the tensor (the 0th axis \n",
        "corresponds to the output channels of the convolutional layer and has \n",
        "dimensionality 6 for ``conv1``), based on the channels' L2 norm. This can be \n",
        "achieved using the ``ln_structured`` function, with ``n=2`` and ``dim=0``.\n",
        "\n"
      ]
    },
    {
      "cell_type": "code",
      "execution_count": 20,
      "metadata": {
        "id": "MjaDRu0LrWbx",
        "outputId": "4301ca5a-a05b-4b56-8902-0b87641e191b",
        "colab": {
          "base_uri": "https://localhost:8080/"
        }
      },
      "outputs": [
        {
          "output_type": "stream",
          "name": "stdout",
          "text": [
            "tensor([[[[ 0.0000, -0.0000, -0.0000],\n",
            "          [ 0.0000, -0.0000,  0.0000],\n",
            "          [ 0.0000, -0.0000,  0.0000]]],\n",
            "\n",
            "\n",
            "        [[[-0.0000,  0.0000,  0.0000],\n",
            "          [ 0.0000, -0.0000,  0.0000],\n",
            "          [ 0.0000,  0.0000,  0.0000]]],\n",
            "\n",
            "\n",
            "        [[[ 0.2405, -0.2004, -0.0000],\n",
            "          [-0.1561, -0.2141, -0.2966],\n",
            "          [ 0.0000,  0.0000,  0.0000]]],\n",
            "\n",
            "\n",
            "        [[[-0.0000,  0.0000,  0.0000],\n",
            "          [ 0.1169, -0.1011,  0.3257],\n",
            "          [-0.0018,  0.0000,  0.3029]]],\n",
            "\n",
            "\n",
            "        [[[ 0.0280,  0.1943,  0.2227],\n",
            "          [ 0.2977,  0.1650,  0.0000],\n",
            "          [-0.2792, -0.0000, -0.0000]]],\n",
            "\n",
            "\n",
            "        [[[ 0.0000,  0.0000, -0.0000],\n",
            "          [-0.0000,  0.0000, -0.0000],\n",
            "          [ 0.0000, -0.0000,  0.0000]]]], grad_fn=<MulBackward0>)\n"
          ]
        }
      ],
      "source": [
        "prune.ln_structured(module, name=\"weight\", amount=0.5, n=2, dim=0)\n",
        "\n",
        "# As we can verify, this will zero out all the connections corresponding to \n",
        "# 50% (3 out of 6) of the channels, while preserving the action of the \n",
        "# previous mask.\n",
        "print(module.weight)"
      ]
    },
    {
      "cell_type": "markdown",
      "metadata": {
        "id": "hOJE8VikrWbx"
      },
      "source": [
        "The corresponding hook will now be of type \n",
        "``torch.nn.utils.prune.PruningContainer``, and will store the history of \n",
        "pruning applied to the ``weight`` parameter.\n",
        "\n"
      ]
    },
    {
      "cell_type": "code",
      "execution_count": 21,
      "metadata": {
        "id": "KEjY6wJurWbx",
        "outputId": "d11b5b51-d166-47e2-eaa3-421e1860665d",
        "colab": {
          "base_uri": "https://localhost:8080/"
        }
      },
      "outputs": [
        {
          "output_type": "stream",
          "name": "stdout",
          "text": [
            "[<torch.nn.utils.prune.RandomUnstructured object at 0x7f364423b490>, <torch.nn.utils.prune.RandomUnstructured object at 0x7f364423b880>, <torch.nn.utils.prune.LnStructured object at 0x7f364423b310>]\n"
          ]
        }
      ],
      "source": [
        "for hook in module._forward_pre_hooks.values():\n",
        "    if hook._tensor_name == \"weight\":  # select out the correct hook\n",
        "        break\n",
        "\n",
        "print(list(hook))  # pruning history in the container"
      ]
    },
    {
      "cell_type": "markdown",
      "metadata": {
        "id": "HfsLTVDerWbx"
      },
      "source": [
        "## Serializing a pruned model\n",
        "All relevant tensors, including the mask buffers and the original parameters\n",
        "used to compute the pruned tensors are stored in the model's ``state_dict`` \n",
        "and can therefore be easily serialized and saved, if needed.\n",
        "\n"
      ]
    },
    {
      "cell_type": "code",
      "execution_count": 22,
      "metadata": {
        "id": "0FSocr2PrWbx",
        "outputId": "1e78f5fc-db82-4e87-d485-e09f562eff8b",
        "colab": {
          "base_uri": "https://localhost:8080/"
        }
      },
      "outputs": [
        {
          "output_type": "stream",
          "name": "stdout",
          "text": [
            "odict_keys(['conv1.weight_orig', 'conv1.bias_orig', 'conv1.weight_mask', 'conv1.bias_mask', 'conv2.weight', 'conv2.bias', 'fc1.weight', 'fc1.bias', 'fc2.weight', 'fc2.bias', 'fc3.weight', 'fc3.bias'])\n"
          ]
        }
      ],
      "source": [
        "print(model.state_dict().keys())"
      ]
    },
    {
      "cell_type": "markdown",
      "metadata": {
        "id": "CN1W4V3VrWbx"
      },
      "source": [
        "## Remove pruning re-parametrization\n",
        "\n",
        "To make the pruning permanent, remove the re-parametrization in terms\n",
        "of ``weight_orig`` and ``weight_mask``, and remove the ``forward_pre_hook``,\n",
        "we can use the ``remove`` functionality from ``torch.nn.utils.prune``.\n",
        "Note that this doesn't undo the pruning, as if it never happened. It simply \n",
        "makes it permanent, instead, by reassigning the parameter ``weight`` to the \n",
        "model parameters, in its pruned version.\n",
        "\n"
      ]
    },
    {
      "cell_type": "markdown",
      "metadata": {
        "id": "HWCuHEn7rWbx"
      },
      "source": [
        "Prior to removing the re-parametrization:\n",
        "\n"
      ]
    },
    {
      "cell_type": "code",
      "execution_count": 23,
      "metadata": {
        "id": "fWSshCt2rWbx",
        "outputId": "630fe1ac-f3d8-403d-a0fe-6c5e4eb400f3",
        "colab": {
          "base_uri": "https://localhost:8080/"
        }
      },
      "outputs": [
        {
          "output_type": "stream",
          "name": "stdout",
          "text": [
            "[('weight_orig', Parameter containing:\n",
            "tensor([[[[ 0.1496, -0.3023, -0.2438],\n",
            "          [ 0.2126, -0.1133,  0.1834],\n",
            "          [ 0.1078, -0.1044,  0.2714]]],\n",
            "\n",
            "\n",
            "        [[[-0.3030,  0.1866,  0.0981],\n",
            "          [ 0.1191, -0.0111,  0.0293],\n",
            "          [ 0.1350,  0.2438,  0.3189]]],\n",
            "\n",
            "\n",
            "        [[[ 0.2405, -0.2004, -0.2549],\n",
            "          [-0.1561, -0.2141, -0.2966],\n",
            "          [ 0.0078,  0.0792,  0.2938]]],\n",
            "\n",
            "\n",
            "        [[[-0.0651,  0.1800,  0.0074],\n",
            "          [ 0.1169, -0.1011,  0.3257],\n",
            "          [-0.0018,  0.2859,  0.3029]]],\n",
            "\n",
            "\n",
            "        [[[ 0.0280,  0.1943,  0.2227],\n",
            "          [ 0.2977,  0.1650,  0.2472],\n",
            "          [-0.2792, -0.2536, -0.0531]]],\n",
            "\n",
            "\n",
            "        [[[ 0.1682,  0.1154, -0.1251],\n",
            "          [-0.1167,  0.1291, -0.2735],\n",
            "          [ 0.0724, -0.0380,  0.0469]]]], requires_grad=True)), ('bias_orig', Parameter containing:\n",
            "tensor([ 0.2546, -0.2674,  0.2974, -0.0682, -0.2642,  0.2121],\n",
            "       requires_grad=True))]\n"
          ]
        }
      ],
      "source": [
        "print(list(module.named_parameters()))"
      ]
    },
    {
      "cell_type": "code",
      "execution_count": null,
      "metadata": {
        "id": "Am2S_4lFrWby"
      },
      "outputs": [],
      "source": [
        "print(list(module.named_buffers()))"
      ]
    },
    {
      "cell_type": "code",
      "execution_count": null,
      "metadata": {
        "id": "ktDD-7RrrWby"
      },
      "outputs": [],
      "source": [
        "print(module.weight)"
      ]
    },
    {
      "cell_type": "markdown",
      "metadata": {
        "id": "_ZT5pg4ErWbz"
      },
      "source": [
        "After removing the re-parametrization:\n",
        "\n"
      ]
    },
    {
      "cell_type": "code",
      "execution_count": null,
      "metadata": {
        "id": "BZs-7SxurWbz"
      },
      "outputs": [],
      "source": [
        "prune.remove(module, 'weight')\n",
        "print(list(module.named_parameters()))"
      ]
    },
    {
      "cell_type": "code",
      "execution_count": null,
      "metadata": {
        "id": "OPk472VXrWbz"
      },
      "outputs": [],
      "source": [
        "print(list(module.named_buffers()))"
      ]
    },
    {
      "cell_type": "markdown",
      "metadata": {
        "id": "hXwdikBKrWbz"
      },
      "source": [
        "## Pruning multiple parameters in a model \n",
        "\n",
        "By specifying the desired pruning technique and parameters, we can easily \n",
        "prune multiple tensors in a network, perhaps according to their type, as we \n",
        "will see in this example.\n",
        "\n"
      ]
    },
    {
      "cell_type": "code",
      "execution_count": null,
      "metadata": {
        "id": "QjmLxFuxrWbz"
      },
      "outputs": [],
      "source": [
        "new_model = LeNet()\n",
        "for name, module in new_model.named_modules():\n",
        "    # prune 20% of connections in all 2D-conv layers \n",
        "    if isinstance(module, torch.nn.Conv2d):\n",
        "        prune.l1_unstructured(module, name='weight', amount=0.2)\n",
        "    # prune 40% of connections in all linear layers \n",
        "    elif isinstance(module, torch.nn.Linear):\n",
        "        prune.l1_unstructured(module, name='weight', amount=0.4)\n",
        "\n",
        "print(dict(new_model.named_buffers()).keys())  # to verify that all masks exist"
      ]
    },
    {
      "cell_type": "markdown",
      "metadata": {
        "id": "ONRGRZIQrWbz"
      },
      "source": [
        "## Global pruning\n",
        "\n",
        "So far, we only looked at what is usually referred to as \"local\" pruning,\n",
        "i.e. the practice of pruning tensors in a model one by one, by \n",
        "comparing the statistics (weight magnitude, activation, gradient, etc.) of \n",
        "each entry exclusively to the other entries in that tensor. However, a \n",
        "common and perhaps more powerful technique is to prune the model all at \n",
        "once, by removing (for example) the lowest 20% of connections across the \n",
        "whole model, instead of removing the lowest 20% of connections in each \n",
        "layer. This is likely to result in different pruning percentages per layer.\n",
        "Let's see how to do that using ``global_unstructured`` from \n",
        "``torch.nn.utils.prune``.\n",
        "\n"
      ]
    },
    {
      "cell_type": "code",
      "execution_count": null,
      "metadata": {
        "id": "9TyteYBTrWbz"
      },
      "outputs": [],
      "source": [
        "model = LeNet()\n",
        "\n",
        "parameters_to_prune = (\n",
        "    (model.conv1, 'weight'),\n",
        "    (model.conv2, 'weight'),\n",
        "    (model.fc1, 'weight'),\n",
        "    (model.fc2, 'weight'),\n",
        "    (model.fc3, 'weight'),\n",
        ")\n",
        "\n",
        "prune.global_unstructured(\n",
        "    parameters_to_prune,\n",
        "    pruning_method=prune.L1Unstructured,\n",
        "    amount=0.2,\n",
        ")"
      ]
    },
    {
      "cell_type": "markdown",
      "metadata": {
        "id": "UtZNdqB7rWbz"
      },
      "source": [
        "Now we can check the sparsity induced in every pruned parameter, which will \n",
        "not be equal to 20% in each layer. However, the global sparsity will be \n",
        "(approximately) 20%.\n",
        "\n"
      ]
    },
    {
      "cell_type": "code",
      "execution_count": null,
      "metadata": {
        "id": "pgH7LB3srWbz"
      },
      "outputs": [],
      "source": [
        "print(\n",
        "    \"Sparsity in conv1.weight: {:.2f}%\".format(\n",
        "        100. * float(torch.sum(model.conv1.weight == 0))\n",
        "        / float(model.conv1.weight.nelement())\n",
        "    )\n",
        ")\n",
        "print(\n",
        "    \"Sparsity in conv2.weight: {:.2f}%\".format(\n",
        "        100. * float(torch.sum(model.conv2.weight == 0))\n",
        "        / float(model.conv2.weight.nelement())\n",
        "    )\n",
        ")\n",
        "print(\n",
        "    \"Sparsity in fc1.weight: {:.2f}%\".format(\n",
        "        100. * float(torch.sum(model.fc1.weight == 0))\n",
        "        / float(model.fc1.weight.nelement())\n",
        "    )\n",
        ")\n",
        "print(\n",
        "    \"Sparsity in fc2.weight: {:.2f}%\".format(\n",
        "        100. * float(torch.sum(model.fc2.weight == 0))\n",
        "        / float(model.fc2.weight.nelement())\n",
        "    )\n",
        ")\n",
        "print(\n",
        "    \"Sparsity in fc3.weight: {:.2f}%\".format(\n",
        "        100. * float(torch.sum(model.fc3.weight == 0))\n",
        "        / float(model.fc3.weight.nelement())\n",
        "    )\n",
        ")\n",
        "print(\n",
        "    \"Global sparsity: {:.2f}%\".format(\n",
        "        100. * float(\n",
        "            torch.sum(model.conv1.weight == 0)\n",
        "            + torch.sum(model.conv2.weight == 0)\n",
        "            + torch.sum(model.fc1.weight == 0)\n",
        "            + torch.sum(model.fc2.weight == 0)\n",
        "            + torch.sum(model.fc3.weight == 0)\n",
        "        )\n",
        "        / float(\n",
        "            model.conv1.weight.nelement()\n",
        "            + model.conv2.weight.nelement()\n",
        "            + model.fc1.weight.nelement()\n",
        "            + model.fc2.weight.nelement()\n",
        "            + model.fc3.weight.nelement()\n",
        "        )\n",
        "    )\n",
        ")"
      ]
    },
    {
      "cell_type": "markdown",
      "metadata": {
        "id": "9zx6bs9UrWb0"
      },
      "source": [
        "## Extending ``torch.nn.utils.prune`` with custom pruning functions\n",
        "To implement your own pruning function, you can extend the\n",
        "``nn.utils.prune`` module by subclassing the ``BasePruningMethod``\n",
        "base class, the same way all other pruning methods do. The base class\n",
        "implements the following methods for you: ``__call__``, ``apply_mask``,\n",
        "``apply``, ``prune``, and ``remove``. Beyond some special cases, you shouldn't\n",
        "have to reimplement these methods for your new pruning technique.\n",
        "You will, however, have to implement ``__init__`` (the constructor),\n",
        "and ``compute_mask`` (the instructions on how to compute the mask\n",
        "for the given tensor according to the logic of your pruning\n",
        "technique). In addition, you will have to specify which type of\n",
        "pruning this technique implements (supported options are ``global``,\n",
        "``structured``, and ``unstructured``). This is needed to determine\n",
        "how to combine masks in the case in which pruning is applied\n",
        "iteratively. In other words, when pruning a pre-pruned parameter,\n",
        "the current prunining techique is expected to act on the unpruned\n",
        "portion of the parameter. Specifying the ``PRUNING_TYPE`` will\n",
        "enable the ``PruningContainer`` (which handles the iterative\n",
        "application of pruning masks) to correctly identify the slice of the\n",
        "parameter to prune.\n",
        "\n",
        "Let's assume, for example, that you want to implement a pruning\n",
        "technique that prunes every other entry in a tensor (or -- if the\n",
        "tensor has previously been pruned -- in the remaining unpruned\n",
        "portion of the tensor). This will be of ``PRUNING_TYPE='unstructured'``\n",
        "because it acts on individual connections in a layer and not on entire\n",
        "units/channels (``'structured'``), or across different parameters\n",
        "(``'global'``).\n",
        "\n"
      ]
    },
    {
      "cell_type": "code",
      "execution_count": null,
      "metadata": {
        "id": "8Lsk8sQ5rWb0"
      },
      "outputs": [],
      "source": [
        "class FooBarPruningMethod(prune.BasePruningMethod):\n",
        "    \"\"\"Prune every other entry in a tensor\n",
        "    \"\"\"\n",
        "    PRUNING_TYPE = 'unstructured'\n",
        "\n",
        "    def compute_mask(self, t, default_mask):\n",
        "        mask = default_mask.clone()\n",
        "        mask.view(-1)[::2] = 0 \n",
        "        return mask"
      ]
    },
    {
      "cell_type": "markdown",
      "metadata": {
        "id": "YidsA4WkrWb0"
      },
      "source": [
        "Now, to apply this to a parameter in an ``nn.Module``, you should\n",
        "also provide a simple function that instantiates the method and\n",
        "applies it.\n",
        "\n"
      ]
    },
    {
      "cell_type": "code",
      "execution_count": null,
      "metadata": {
        "id": "Fq1eGH-RrWb0"
      },
      "outputs": [],
      "source": [
        "def foobar_unstructured(module, name):\n",
        "    \"\"\"Prunes tensor corresponding to parameter called `name` in `module`\n",
        "    by removing every other entry in the tensors.\n",
        "    Modifies module in place (and also return the modified module) \n",
        "    by:\n",
        "    1) adding a named buffer called `name+'_mask'` corresponding to the \n",
        "    binary mask applied to the parameter `name` by the pruning method.\n",
        "    The parameter `name` is replaced by its pruned version, while the \n",
        "    original (unpruned) parameter is stored in a new parameter named \n",
        "    `name+'_orig'`.\n",
        "\n",
        "    Args:\n",
        "        module (nn.Module): module containing the tensor to prune\n",
        "        name (string): parameter name within `module` on which pruning\n",
        "                will act.\n",
        "\n",
        "    Returns:\n",
        "        module (nn.Module): modified (i.e. pruned) version of the input\n",
        "            module\n",
        "    \n",
        "    Examples:\n",
        "        >>> m = nn.Linear(3, 4)\n",
        "        >>> foobar_unstructured(m, name='bias')\n",
        "    \"\"\"\n",
        "    FooBarPruningMethod.apply(module, name)\n",
        "    return module"
      ]
    },
    {
      "cell_type": "markdown",
      "metadata": {
        "id": "S8d14bsArWb0"
      },
      "source": [
        "Let's try it out!\n",
        "\n"
      ]
    },
    {
      "cell_type": "code",
      "execution_count": null,
      "metadata": {
        "id": "yDbIuD_HrWb0"
      },
      "outputs": [],
      "source": [
        "model = LeNet()\n",
        "foobar_unstructured(model.fc3, name='bias')\n",
        "\n",
        "print(model.fc3.bias_mask)"
      ]
    }
  ],
  "metadata": {
    "kernelspec": {
      "display_name": "Python 3",
      "language": "python",
      "name": "python3"
    },
    "language_info": {
      "codemirror_mode": {
        "name": "ipython",
        "version": 3
      },
      "file_extension": ".py",
      "mimetype": "text/x-python",
      "name": "python",
      "nbconvert_exporter": "python",
      "pygments_lexer": "ipython3",
      "version": "3.10.8"
    },
    "colab": {
      "provenance": [],
      "include_colab_link": true
    }
  },
  "nbformat": 4,
  "nbformat_minor": 0
}